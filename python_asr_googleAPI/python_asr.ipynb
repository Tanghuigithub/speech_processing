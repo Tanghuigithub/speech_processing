{
 "cells": [
  {
   "cell_type": "markdown",
   "metadata": {},
   "source": [
    "# Python 实现 ASR demo"
   ]
  },
  {
   "cell_type": "markdown",
   "metadata": {},
   "source": [
    "- ### 安装 SpeechRecognation\n",
    "\n",
    "        $ pip install SpeechRecognition"
   ]
  },
  {
   "cell_type": "code",
   "execution_count": null,
   "metadata": {},
   "outputs": [],
   "source": [
    "# 处理现有的音频文件，只需直接调用 SpeechRecognition\n",
    "import speech_recognition as sr\n",
    "\n",
    "sr.__version__"
   ]
  },
  {
   "cell_type": "code",
   "execution_count": null,
   "metadata": {},
   "outputs": [],
   "source": [
    "r = sr.Recognizer()"
   ]
  },
  {
   "cell_type": "code",
   "execution_count": null,
   "metadata": {},
   "outputs": [],
   "source": [
    "# 添加语音文件\n",
    "harvard = sr.AudioFile('harvard.wav')\n",
    "\n",
    "# 通过上下文管理器打开文件并读取文件内容，并将数据存储在 AudioFile 实例中\n",
    "# 然后通过 record（）将整个文件中的数据记录到 AudioData 实例中\n",
    "with harvard as source:\n",
    "    audio = r.record(source)\n",
    "    \n",
    "# 检查音频类型\n",
    "type(audio)"
   ]
  },
  {
   "cell_type": "code",
   "execution_count": null,
   "metadata": {},
   "outputs": [],
   "source": [
    "# 调用 Google Web Speech API\n",
    "r.recognize_google(audio)"
   ]
  }
 ],
 "metadata": {
  "kernelspec": {
   "display_name": "Python 3",
   "language": "python",
   "name": "python3"
  },
  "language_info": {
   "codemirror_mode": {
    "name": "ipython",
    "version": 3
   },
   "file_extension": ".py",
   "mimetype": "text/x-python",
   "name": "python",
   "nbconvert_exporter": "python",
   "pygments_lexer": "ipython3",
   "version": "3.6.4"
  }
 },
 "nbformat": 4,
 "nbformat_minor": 2
}
